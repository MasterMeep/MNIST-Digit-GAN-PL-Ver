{
 "cells": [
  {
   "cell_type": "code",
   "execution_count": 89,
   "metadata": {},
   "outputs": [],
   "source": [
    "import lightning as pl\n",
    "import numpy as np\n",
    "import matplotlib.pyplot as plt\n",
    "import pandas as pd\n",
    "import torch\n",
    "import torchvision\n",
    "import torch.nn as nn\n",
    "import torchvision.transforms as transforms\n",
    "from torch.utils.data import Dataset, DataLoader,random_split\n",
    "import torchvision.datasets as datasets\n",
    "import torch.nn.functional as F\n",
    "from torchvision.datasets import MNIST\n",
    "import os"
   ]
  },
  {
   "cell_type": "code",
   "execution_count": 90,
   "metadata": {},
   "outputs": [
    {
     "data": {
      "text/plain": [
       "<torch._C.Generator at 0x196571e4970>"
      ]
     },
     "execution_count": 90,
     "metadata": {},
     "output_type": "execute_result"
    }
   ],
   "source": [
    "BATCH_SIZE = 128\n",
    "random_seed = 50\n",
    "torch.manual_seed(random_seed)"
   ]
  },
  {
   "cell_type": "code",
   "execution_count": 91,
   "metadata": {},
   "outputs": [],
   "source": [
    "class MNISTDataModule(pl.LightningDataModule):\n",
    "    def __init__(self, data_dir, batch_size):\n",
    "        super().__init__()\n",
    "        self.data_dir = data_dir\n",
    "        self.batch_size = batch_size\n",
    "        \n",
    "        self.transform = transforms.Compose(\n",
    "            [\n",
    "                transforms.ToTensor(),\n",
    "                transforms.Normalize((0.1307,), (0.3081,))\n",
    "            ]\n",
    "        )\n",
    "        \n",
    "    def prepare_data(self):\n",
    "        MNIST(self.data_dir, train=True, download=True)\n",
    "        MNIST(self.data_dir, train=False, download=True)\n",
    "        \n",
    "    def setup(self, stage=None):\n",
    "        if stage==\"fit\" or None:\n",
    "            mnist_full = MNIST(self.data_dir, train=True, transform=self.transform)\n",
    "            self.mnist_train, self.mnist_val = random_split(mnist_full, [55000, 5000])\n",
    "            \n",
    "        if stage==\"test\" or None:\n",
    "            self.mnist_test = MNIST(self.data_dir, train=False, transform=self.transform)\n",
    "            \n",
    "    def train_dataloader(self):\n",
    "        return DataLoader(self.mnist_train, batch_size=self.batch_size) #shuffle = True\n",
    "    \n",
    "    def val_dataloader(self):\n",
    "        return DataLoader(self.mnist_val, batch_size=self.batch_size)\n",
    "    \n",
    "    def test_dataloader(self):\n",
    "        return DataLoader(self.mnist_test, batch_size=self.batch_size)"
   ]
  },
  {
   "cell_type": "code",
   "execution_count": 92,
   "metadata": {},
   "outputs": [],
   "source": [
    "class Discriminator(nn.Module):\n",
    "    def __init__(self):\n",
    "        super().__init__()\n",
    "        \n",
    "        self.model = nn.Sequential(\n",
    "            nn.Conv2d(1, 64, 4, 2, 1), # 28x28 -> 14x14\n",
    "            nn.ReLU(),\n",
    "            \n",
    "            nn.Conv2d(64, 128, 4, 2, 1), # 14x14 -> 7x7\n",
    "            nn.ReLU(),\n",
    "            \n",
    "            nn.Conv2d(128, 256, 4, 2, 1), # 7x7 -> 3x3\n",
    "            nn.ReLU(),\n",
    "            \n",
    "            nn.Conv2d(256, 1, 3, 1, 0), # 3x3 -> 1x1\n",
    "            nn.Sigmoid() # 0~1 aka fake or real\n",
    "        )\n",
    "        \n",
    "    def forward(self, x):\n",
    "        output = self.model(x)\n",
    "        return output.view(-1)"
   ]
  },
  {
   "cell_type": "code",
   "execution_count": 93,
   "metadata": {},
   "outputs": [],
   "source": [
    "class Generator(nn.Module):\n",
    "    def __init__(self, latent_dim):\n",
    "        super().__init__()\n",
    "        \n",
    "        self.model = nn.Sequential(\n",
    "            nn.Linear(latent_dim, 256*7*7),\n",
    "            nn.ReLU(),\n",
    "            \n",
    "            nn.Unflatten(1, (256, 7, 7)),\n",
    "            \n",
    "            nn.ConvTranspose2d(256, 128, 4, 2, 1), # 7x7 -> 14x14\n",
    "            nn.ReLU(),\n",
    "            \n",
    "            nn.ConvTranspose2d(128, 1, 4, 2, 1), # 14x14 -> 28x28\n",
    "        )\n",
    "        \n",
    "    def forward(self, x):\n",
    "        x = self.model(x)\n",
    "        return x"
   ]
  },
  {
   "cell_type": "code",
   "execution_count": 94,
   "metadata": {},
   "outputs": [],
   "source": [
    "class GAN(pl.LightningModule):\n",
    "    def __init__(self, latent_dim=100, lr=0.0002):\n",
    "        super().__init__()\n",
    "        self.save_hyperparameters()\n",
    "        self.automatic_optimization = False\n",
    "        \n",
    "        \n",
    "        self.generator = Generator(self.hparams.latent_dim)\n",
    "        self.discriminator = Discriminator()\n",
    "        \n",
    "        self.validation_z = torch.randn(6, self.hparams.latent_dim)\n",
    "        \n",
    "    def forward(self, z):\n",
    "        return self.generator(z)\n",
    "    \n",
    "    def adversarial_loss(self, y_hat, y):\n",
    "        return F.binary_cross_entropy(y_hat, y)\n",
    "    \n",
    "    def training_step(self, batch, batch_idx):\n",
    "        real, _ = batch # real images, labels\n",
    "        \n",
    "        generator_optimizer, discriminator_optimizer = self.optimizers()\n",
    "        \n",
    "        z = torch.randn(real.shape[0], self.hparams.latent_dim).to(self.device)\n",
    "        \n",
    "        ############################\n",
    "        # (1) Train Generator\n",
    "        ############################\n",
    "        \n",
    "        fake_images = self.generator(z)\n",
    "            \n",
    "        y_hat = self.discriminator(fake_images)\n",
    "        y = torch.ones_like(y_hat).to(self.device)\n",
    "            \n",
    "        generator_loss = self.adversarial_loss(y_hat, y)\n",
    "        \n",
    "        generator_optimizer.zero_grad()\n",
    "        generator_loss.backward()\n",
    "        generator_optimizer.step()\n",
    "        \n",
    "        ############################\n",
    "        # (2) Train Discriminator\n",
    "        ############################\n",
    "            \n",
    "        ############################\n",
    "        # Train on FAKE images\n",
    "        ############################\n",
    "        \n",
    "        fake_images = self.generator(z)\n",
    "        \n",
    "        y_hat = self.discriminator(fake_images.detach())\n",
    "        y = torch.zeros_like(y_hat).to(self.device)\n",
    "        \n",
    "        loss_fake = self.adversarial_loss(y_hat, y)\n",
    "        \n",
    "        ############################\n",
    "        # Train on REAL images\n",
    "        ############################\n",
    "        \n",
    "        y_hat = self.discriminator(real)\n",
    "        y = torch.ones_like(y_hat).to(self.device)\n",
    "        \n",
    "        loss_real = self.adversarial_loss(y_hat, y)\n",
    "        \n",
    "        ############################\n",
    "        # Combine losses\n",
    "        ############################\n",
    "        \n",
    "        discriminator_loss = (loss_fake + loss_real) / 2\n",
    "        \n",
    "        discriminator_optimizer.zero_grad()\n",
    "        discriminator_loss.backward()\n",
    "        discriminator_optimizer.step()\n",
    "        \n",
    "        \n",
    "        self.log_dict({\"discriminator_loss\": discriminator_loss, \"generator_loss\": generator_loss}, prog_bar=True, logger=True)\n",
    "    \n",
    "    def configure_optimizers(self):\n",
    "        lr = self.hparams.lr\n",
    "        \n",
    "        generator_optimizer = torch.optim.Adam(self.generator.parameters(), lr=lr)\n",
    "        discriminator_optimizer = torch.optim.Adam(self.discriminator.parameters(), lr=lr)\n",
    "        \n",
    "        return [generator_optimizer, discriminator_optimizer], []\n",
    "    \n",
    "    def plot_images(self):\n",
    "        z = self.validation_z.to(self.device)\n",
    "        samples = self.generator(z).cpu()\n",
    "        grid = torchvision.utils.make_grid(samples).permute(1, 2, 0)\n",
    "        plt.imshow(grid)\n",
    "        plt.show()\n",
    "    \n",
    "    def on_epoch_end(self):\n",
    "        self.plot_images()"
   ]
  },
  {
   "cell_type": "code",
   "execution_count": 95,
   "metadata": {},
   "outputs": [],
   "source": [
    "data_module = MNISTDataModule(data_dir=\"data/\", batch_size=BATCH_SIZE)\n",
    "model = GAN()"
   ]
  },
  {
   "cell_type": "code",
   "execution_count": 96,
   "metadata": {},
   "outputs": [
    {
     "name": "stderr",
     "output_type": "stream",
     "text": [
      "GPU available: True (cuda), used: True\n",
      "TPU available: False, using: 0 TPU cores\n",
      "IPU available: False, using: 0 IPUs\n",
      "HPU available: False, using: 0 HPUs\n"
     ]
    },
    {
     "name": "stderr",
     "output_type": "stream",
     "text": [
      "LOCAL_RANK: 0 - CUDA_VISIBLE_DEVICES: [0]\n",
      "\n",
      "  | Name          | Type          | Params\n",
      "------------------------------------------------\n",
      "0 | generator     | Generator     | 1.8 M \n",
      "1 | discriminator | Discriminator | 659 K \n",
      "------------------------------------------------\n",
      "2.5 M     Trainable params\n",
      "0         Non-trainable params\n",
      "2.5 M     Total params\n",
      "9.810     Total estimated model params size (MB)\n"
     ]
    },
    {
     "name": "stdout",
     "output_type": "stream",
     "text": [
      "Epoch 19: 100%|██████████| 430/430 [00:48<00:00,  8.87it/s, v_num=3, discriminator_loss=0.0216, generator_loss=4.880] "
     ]
    },
    {
     "name": "stderr",
     "output_type": "stream",
     "text": [
      "`Trainer.fit` stopped: `max_epochs=20` reached.\n"
     ]
    },
    {
     "name": "stdout",
     "output_type": "stream",
     "text": [
      "Epoch 19: 100%|██████████| 430/430 [00:48<00:00,  8.84it/s, v_num=3, discriminator_loss=0.0216, generator_loss=4.880]\n"
     ]
    }
   ],
   "source": [
    "trainer = pl.Trainer(max_epochs=20)\n",
    "trainer.fit(model, data_module)"
   ]
  },
  {
   "cell_type": "code",
   "execution_count": 97,
   "metadata": {},
   "outputs": [
    {
     "name": "stderr",
     "output_type": "stream",
     "text": [
      "Clipping input data to the valid range for imshow with RGB data ([0..1] for floats or [0..255] for integers).\n"
     ]
    },
    {
     "data": {
      "image/png": "[encoded data removed]",
      "text/plain": [
       "<Figure size 432x288 with 1 Axes>"
      ]
     },
     "metadata": {
      "needs_background": "light"
     },
     "output_type": "display_data"
    }
   ],
   "source": [
    "model.plot_images()"
   ]
  }
 ],
 "metadata": {
  "kernelspec": {
   "display_name": "LLM",
   "language": "python",
   "name": "python3"
  },
  "language_info": {
   "codemirror_mode": {
    "name": "ipython",
    "version": 3
   },
   "file_extension": ".py",
   "mimetype": "text/x-python",
   "name": "python",
   "nbconvert_exporter": "python",
   "pygments_lexer": "ipython3",
   "version": "3.10.11"
  }
 },
 "nbformat": 4,
 "nbformat_minor": 2
}
